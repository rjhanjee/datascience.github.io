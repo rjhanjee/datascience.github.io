{
  "nbformat": 4,
  "nbformat_minor": 0,
  "metadata": {
    "colab": {
      "provenance": [],
      "authorship_tag": "ABX9TyOqY0HMrVzOwZqBQdjsYl7P",
      "include_colab_link": true
    },
    "kernelspec": {
      "name": "python3",
      "display_name": "Python 3"
    },
    "language_info": {
      "name": "python"
    }
  },
  "cells": [
    {
      "cell_type": "markdown",
      "metadata": {
        "id": "view-in-github",
        "colab_type": "text"
      },
      "source": [
        "<a href=\"https://colab.research.google.com/github/rjhanjee/repo_datascience_class1/blob/main/hw2.ipynb\" target=\"_parent\"><img src=\"https://colab.research.google.com/assets/colab-badge.svg\" alt=\"Open In Colab\"/></a>"
      ]
    },
    {
      "cell_type": "code",
      "execution_count": 12,
      "metadata": {
        "colab": {
          "base_uri": "https://localhost:8080/"
        },
        "id": "hQ1QN3FAnkao",
        "outputId": "60232d62-3378-4b32-d6d4-5fb27c6944bf"
      },
      "outputs": [
        {
          "output_type": "stream",
          "name": "stdout",
          "text": [
            "This sorting hat will attempt to put you in Slytherin or Gryffindor house, if you meet the criteria\n",
            "are you brave in heart (yes/no)? > yes\n",
            "are you cunning in heart (y/n)? > yes\n",
            "you belong to neiher of the two houses\n"
          ]
        }
      ],
      "source": [
        "def sorting_hat(x,y):\n",
        "  return x,y\n",
        "print(\"This sorting hat will attempt to put you in Slytherin or Gryffindor house, if you meet the criteria\")\n",
        "x = input(\"are you brave in heart (yes/no)? > \")\n",
        "y = input(\"are you cunning in heart (y/n)? > \")\n",
        "if x == 'yes' and y =='no':\n",
        "  print(\"Gryffindor!\")\n",
        "elif x == 'no' and y=='yes':\n",
        "  print(\"Slytherin\")\n",
        "else:\n",
        "  print(\"you belong to neiher of the two houses\")\n",
        "\n",
        "\n"
      ]
    },
    {
      "cell_type": "code",
      "source": [
        "class mydata:\n",
        "    def __init__(self, list_num):\n",
        "         self.list_num = list_num\n",
        "\n",
        "    def list_of_numbers(self):\n",
        "\n",
        "        return self.list_num\n",
        "\n",
        "    def calculate_mean(self):\n",
        "        return sum(self.list_num)/len(self.list_num)\n",
        "\n",
        "    def calculate_standard_deviation(self):\n",
        "\n",
        "        return max(self.list_num)\n",
        "\n",
        "\n",
        "x= mydata([10, 20, 40, 60])\n",
        "print(x.list_of_numbers())\n",
        "print(x.calculate_mean())\n",
        "print(x.find_max())\n",
        "\n",
        "\n",
        "\n",
        "\n",
        "\n"
      ],
      "metadata": {
        "colab": {
          "base_uri": "https://localhost:8080/"
        },
        "id": "OcdA7CjIURMy",
        "outputId": "bbe8c1cc-e3e6-4648-e559-6a00e6b896cb"
      },
      "execution_count": 32,
      "outputs": [
        {
          "output_type": "stream",
          "name": "stdout",
          "text": [
            "[10, 20, 40, 60]\n",
            "32.5\n",
            "60\n"
          ]
        }
      ]
    }
  ]
}