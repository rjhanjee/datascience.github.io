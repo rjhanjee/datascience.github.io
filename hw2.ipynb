{
  "nbformat": 4,
  "nbformat_minor": 0,
  "metadata": {
    "colab": {
      "provenance": [],
      "authorship_tag": "ABX9TyMJQwwPF4ttJcqZMIPxmlPV",
      "include_colab_link": true
    },
    "kernelspec": {
      "name": "python3",
      "display_name": "Python 3"
    },
    "language_info": {
      "name": "python"
    }
  },
  "cells": [
    {
      "cell_type": "markdown",
      "metadata": {
        "id": "view-in-github",
        "colab_type": "text"
      },
      "source": [
        "<a href=\"https://colab.research.google.com/github/rjhanjee/repo_datascience_class1/blob/main/hw2.ipynb\" target=\"_parent\"><img src=\"https://colab.research.google.com/assets/colab-badge.svg\" alt=\"Open In Colab\"/></a>"
      ]
    },
    {
      "cell_type": "code",
      "execution_count": 12,
      "metadata": {
        "colab": {
          "base_uri": "https://localhost:8080/"
        },
        "id": "hQ1QN3FAnkao",
        "outputId": "60232d62-3378-4b32-d6d4-5fb27c6944bf"
      },
      "outputs": [
        {
          "output_type": "stream",
          "name": "stdout",
          "text": [
            "This sorting hat will attempt to put you in Slytherin or Gryffindor house, if you meet the criteria\n",
            "are you brave in heart (yes/no)? > yes\n",
            "are you cunning in heart (y/n)? > yes\n",
            "you belong to neiher of the two houses\n"
          ]
        }
      ],
      "source": [
        "def sorting_hat(x,y):\n",
        "  return x,y\n",
        "print(\"This sorting hat will attempt to put you in Slytherin or Gryffindor house, if you meet the criteria\")\n",
        "x = input(\"are you brave in heart (yes/no)? > \")\n",
        "y = input(\"are you cunning in heart (y/n)? > \")\n",
        "if x == 'yes' and y =='no':\n",
        "  print(\"Gryffindor!\")\n",
        "elif x == 'no' and y=='yes':\n",
        "  print(\"Slytherin\")\n",
        "else:\n",
        "  print(\"you belong to neiher of the two houses\")\n",
        "\n"
      ]
    }
  ]
}